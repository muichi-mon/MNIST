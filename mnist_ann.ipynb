{
 "cells": [
  {
   "cell_type": "markdown",
   "id": "c9380711",
   "metadata": {
    "papermill": {
     "duration": 0.004907,
     "end_time": "2025-09-11T16:33:41.883565",
     "exception": false,
     "start_time": "2025-09-11T16:33:41.878658",
     "status": "completed"
    },
    "tags": []
   },
   "source": [
    " ### Step 0: Import Libraries"
   ]
  },
  {
   "cell_type": "code",
   "execution_count": 1,
   "id": "8fec0649",
   "metadata": {
    "execution": {
     "iopub.execute_input": "2025-09-11T16:33:41.893985Z",
     "iopub.status.busy": "2025-09-11T16:33:41.893188Z",
     "iopub.status.idle": "2025-09-11T16:33:58.448117Z",
     "shell.execute_reply": "2025-09-11T16:33:58.446927Z"
    },
    "papermill": {
     "duration": 16.562023,
     "end_time": "2025-09-11T16:33:58.449931",
     "exception": false,
     "start_time": "2025-09-11T16:33:41.887908",
     "status": "completed"
    },
    "tags": []
   },
   "outputs": [],
   "source": [
    "# Step 0: Import Stuff\n",
    "\n",
    "import torch\n",
    "import torch.nn as nn\n",
    "import torch.nn.functional as F          # adds some efficiency\n",
    "from torch.utils.data import DataLoader  # lets us load data in batches\n",
    "from torchvision import datasets, transforms\n",
    "\n",
    "import numpy as np\n",
    "import pandas as pd\n",
    "from sklearn.metrics import confusion_matrix  # for evaluating results\n",
    "import matplotlib.pyplot as plt\n",
    "%matplotlib inline"
   ]
  },
  {
   "cell_type": "markdown",
   "id": "ccf15d11",
   "metadata": {
    "papermill": {
     "duration": 0.00386,
     "end_time": "2025-09-11T16:33:58.458213",
     "exception": false,
     "start_time": "2025-09-11T16:33:58.454353",
     "status": "completed"
    },
    "tags": []
   },
   "source": [
    "### Step 1: Get Data with Transform"
   ]
  },
  {
   "cell_type": "code",
   "execution_count": 2,
   "id": "9cd98684",
   "metadata": {
    "execution": {
     "iopub.execute_input": "2025-09-11T16:33:58.468046Z",
     "iopub.status.busy": "2025-09-11T16:33:58.467521Z",
     "iopub.status.idle": "2025-09-11T16:34:03.650468Z",
     "shell.execute_reply": "2025-09-11T16:34:03.649134Z"
    },
    "papermill": {
     "duration": 5.189701,
     "end_time": "2025-09-11T16:34:03.652029",
     "exception": false,
     "start_time": "2025-09-11T16:33:58.462328",
     "status": "completed"
    },
    "tags": []
   },
   "outputs": [
    {
     "name": "stderr",
     "output_type": "stream",
     "text": [
      "100%|██████████| 9.91M/9.91M [00:00<00:00, 11.5MB/s]\n",
      "100%|██████████| 28.9k/28.9k [00:00<00:00, 334kB/s]\n",
      "100%|██████████| 1.65M/1.65M [00:00<00:00, 3.18MB/s]\n",
      "100%|██████████| 4.54k/4.54k [00:00<00:00, 3.71MB/s]"
     ]
    },
    {
     "name": "stdout",
     "output_type": "stream",
     "text": [
      "Dataset MNIST\n",
      "    Number of datapoints: 60000\n",
      "    Root location: ../Data\n",
      "    Split: Train\n",
      "    StandardTransform\n",
      "Transform: ToTensor()\n",
      "\n",
      "\n",
      "Dataset MNIST\n",
      "    Number of datapoints: 10000\n",
      "    Root location: ../Data\n",
      "    Split: Test\n",
      "    StandardTransform\n",
      "Transform: ToTensor()\n"
     ]
    },
    {
     "name": "stderr",
     "output_type": "stream",
     "text": [
      "\n"
     ]
    }
   ],
   "source": [
    "# Step 1: Define transform and Get Data\n",
    "\n",
    "transform = transforms.ToTensor()\n",
    "train_data = datasets.MNIST(root='../Data', train = True, download = True, transform = transform)\n",
    "test_data = datasets.MNIST(root='../Data', train = False, download = True, transform = transform)\n",
    "\n",
    "print(train_data)\n",
    "print(\"\\n\")\n",
    "print(test_data)"
   ]
  },
  {
   "cell_type": "code",
   "execution_count": 3,
   "id": "183d9019",
   "metadata": {
    "execution": {
     "iopub.execute_input": "2025-09-11T16:34:03.664504Z",
     "iopub.status.busy": "2025-09-11T16:34:03.664156Z",
     "iopub.status.idle": "2025-09-11T16:34:03.678269Z",
     "shell.execute_reply": "2025-09-11T16:34:03.677117Z"
    },
    "papermill": {
     "duration": 0.02265,
     "end_time": "2025-09-11T16:34:03.680139",
     "exception": false,
     "start_time": "2025-09-11T16:34:03.657489",
     "status": "completed"
    },
    "tags": []
   },
   "outputs": [
    {
     "data": {
      "text/plain": [
       "2"
      ]
     },
     "execution_count": 3,
     "metadata": {},
     "output_type": "execute_result"
    }
   ],
   "source": [
    "len(train_data[0])"
   ]
  },
  {
   "cell_type": "code",
   "execution_count": 4,
   "id": "a85d4a00",
   "metadata": {
    "execution": {
     "iopub.execute_input": "2025-09-11T16:34:03.694371Z",
     "iopub.status.busy": "2025-09-11T16:34:03.693965Z",
     "iopub.status.idle": "2025-09-11T16:34:03.700592Z",
     "shell.execute_reply": "2025-09-11T16:34:03.699553Z"
    },
    "papermill": {
     "duration": 0.015354,
     "end_time": "2025-09-11T16:34:03.702344",
     "exception": false,
     "start_time": "2025-09-11T16:34:03.686990",
     "status": "completed"
    },
    "tags": []
   },
   "outputs": [
    {
     "name": "stdout",
     "output_type": "stream",
     "text": [
      "Image shape:  torch.Size([1, 28, 28]) \n",
      "Label:  5\n"
     ]
    }
   ],
   "source": [
    "image, label = train_data[0]\n",
    "print(\"Image shape: \", image.shape, \"\\nLabel: \", label)"
   ]
  },
  {
   "cell_type": "code",
   "execution_count": 5,
   "id": "0a73e306",
   "metadata": {
    "execution": {
     "iopub.execute_input": "2025-09-11T16:34:03.715450Z",
     "iopub.status.busy": "2025-09-11T16:34:03.715108Z",
     "iopub.status.idle": "2025-09-11T16:34:04.018586Z",
     "shell.execute_reply": "2025-09-11T16:34:04.017609Z"
    },
    "papermill": {
     "duration": 0.312832,
     "end_time": "2025-09-11T16:34:04.020537",
     "exception": false,
     "start_time": "2025-09-11T16:34:03.707705",
     "status": "completed"
    },
    "tags": []
   },
   "outputs": [
    {
     "data": {
      "text/plain": [
       "<matplotlib.image.AxesImage at 0x792bfd0a3810>"
      ]
     },
     "execution_count": 5,
     "metadata": {},
     "output_type": "execute_result"
    },
    {
     "data": {
      "image/png": "[encoded data removed]",
      "text/plain": [
       "<Figure size 640x480 with 1 Axes>"
      ]
     },
     "metadata": {},
     "output_type": "display_data"
    }
   ],
   "source": [
    "plt.imshow(image.view(28,28), cmap=\"gist_yarg\")"
   ]
  },
  {
   "cell_type": "markdown",
   "id": "048ea4a9",
   "metadata": {
    "papermill": {
     "duration": 0.005578,
     "end_time": "2025-09-11T16:34:04.032430",
     "exception": false,
     "start_time": "2025-09-11T16:34:04.026852",
     "status": "completed"
    },
    "tags": []
   },
   "source": [
    "### Step 2: Load Data into DataLoader"
   ]
  },
  {
   "cell_type": "code",
   "execution_count": 6,
   "id": "8eac48c7",
   "metadata": {
    "execution": {
     "iopub.execute_input": "2025-09-11T16:34:04.045806Z",
     "iopub.status.busy": "2025-09-11T16:34:04.045484Z",
     "iopub.status.idle": "2025-09-11T16:34:04.059964Z",
     "shell.execute_reply": "2025-09-11T16:34:04.059101Z"
    },
    "papermill": {
     "duration": 0.023604,
     "end_time": "2025-09-11T16:34:04.061584",
     "exception": false,
     "start_time": "2025-09-11T16:34:04.037980",
     "status": "completed"
    },
    "tags": []
   },
   "outputs": [
    {
     "data": {
      "text/plain": [
       "600"
      ]
     },
     "execution_count": 6,
     "metadata": {},
     "output_type": "execute_result"
    }
   ],
   "source": [
    "# Set Seed for Consistent Results\n",
    "\n",
    "torch.manual_seed(101)\n",
    "train_loader = DataLoader(train_data, batch_size = 100, shuffle = True)\n",
    "test_loader = DataLoader(test_data, batch_size = 500, shuffle = True)\n",
    "\n",
    "len(train_loader) # ie. 600 loads of 100 images each = 60,000 images"
   ]
  },
  {
   "cell_type": "code",
   "execution_count": 7,
   "id": "1a0a0a18",
   "metadata": {
    "execution": {
     "iopub.execute_input": "2025-09-11T16:34:04.074643Z",
     "iopub.status.busy": "2025-09-11T16:34:04.074317Z",
     "iopub.status.idle": "2025-09-11T16:34:04.114375Z",
     "shell.execute_reply": "2025-09-11T16:34:04.113218Z"
    },
    "papermill": {
     "duration": 0.049419,
     "end_time": "2025-09-11T16:34:04.116738",
     "exception": false,
     "start_time": "2025-09-11T16:34:04.067319",
     "status": "completed"
    },
    "tags": []
   },
   "outputs": [
    {
     "name": "stdout",
     "output_type": "stream",
     "text": [
      "Batch shape: torch.Size([100, 1, 28, 28])\n"
     ]
    }
   ],
   "source": [
    "# Load the first batch, print its shape\n",
    "for images, labels in train_loader:\n",
    "    print('Batch shape:', images.size())\n",
    "    break\n",
    "    \n",
    "# EQUIVALENT TO:\n",
    "# dataiter = iter(train_loader)\n",
    "# images, labels = dataiter.next()\n",
    "# print('Batch shape:', images.size())"
   ]
  },
  {
   "cell_type": "markdown",
   "id": "4050f32a",
   "metadata": {
    "papermill": {
     "duration": 0.005544,
     "end_time": "2025-09-11T16:34:04.128111",
     "exception": false,
     "start_time": "2025-09-11T16:34:04.122567",
     "status": "completed"
    },
    "tags": []
   },
   "source": [
    "### Step 3: Train Model"
   ]
  },
  {
   "cell_type": "code",
   "execution_count": 8,
   "id": "5c917a20",
   "metadata": {
    "execution": {
     "iopub.execute_input": "2025-09-11T16:34:04.142980Z",
     "iopub.status.busy": "2025-09-11T16:34:04.142126Z",
     "iopub.status.idle": "2025-09-11T16:34:04.148908Z",
     "shell.execute_reply": "2025-09-11T16:34:04.147831Z"
    },
    "papermill": {
     "duration": 0.016857,
     "end_time": "2025-09-11T16:34:04.150569",
     "exception": false,
     "start_time": "2025-09-11T16:34:04.133712",
     "status": "completed"
    },
    "tags": []
   },
   "outputs": [],
   "source": [
    "class MultiLayerPerceptron(nn.Module):\n",
    "    \n",
    "    def __init__(self, input_size = 28*28, output_size = 10, layers = [120, 84]):\n",
    "       \n",
    "        super().__init__()\n",
    "        self.fully_connected_1 = nn.Linear(input_size, layers[0])\n",
    "        self.fully_connected_2 = nn.Linear(layers[0], layers[1])\n",
    "        self.fully_connected_3 = nn.Linear(layers[1], output_size)\n",
    "        \n",
    "    def forward(self, X):\n",
    "        \n",
    "        X = F.relu(self.fully_connected_1(X))\n",
    "        X = F.relu(self.fully_connected_2(X))\n",
    "        X = self.fully_connected_3(X)\n",
    "        \n",
    "        return F.log_softmax(X, dim = 1)"
   ]
  },
  {
   "cell_type": "code",
   "execution_count": 9,
   "id": "ebfccf5a",
   "metadata": {
    "execution": {
     "iopub.execute_input": "2025-09-11T16:34:04.163745Z",
     "iopub.status.busy": "2025-09-11T16:34:04.163354Z",
     "iopub.status.idle": "2025-09-11T16:34:04.172238Z",
     "shell.execute_reply": "2025-09-11T16:34:04.171060Z"
    },
    "papermill": {
     "duration": 0.017441,
     "end_time": "2025-09-11T16:34:04.173991",
     "exception": false,
     "start_time": "2025-09-11T16:34:04.156550",
     "status": "completed"
    },
    "tags": []
   },
   "outputs": [
    {
     "name": "stdout",
     "output_type": "stream",
     "text": [
      "MultiLayerPerceptron(\n",
      "  (fully_connected_1): Linear(in_features=784, out_features=120, bias=True)\n",
      "  (fully_connected_2): Linear(in_features=120, out_features=84, bias=True)\n",
      "  (fully_connected_3): Linear(in_features=84, out_features=10, bias=True)\n",
      ")\n"
     ]
    }
   ],
   "source": [
    "torch.manual_seed(101)\n",
    "model = MultiLayerPerceptron()\n",
    "print(model)"
   ]
  },
  {
   "cell_type": "code",
   "execution_count": 10,
   "id": "7fe87cdc",
   "metadata": {
    "execution": {
     "iopub.execute_input": "2025-09-11T16:34:04.187299Z",
     "iopub.status.busy": "2025-09-11T16:34:04.186949Z",
     "iopub.status.idle": "2025-09-11T16:34:04.192347Z",
     "shell.execute_reply": "2025-09-11T16:34:04.191279Z"
    },
    "papermill": {
     "duration": 0.013802,
     "end_time": "2025-09-11T16:34:04.194147",
     "exception": false,
     "start_time": "2025-09-11T16:34:04.180345",
     "status": "completed"
    },
    "tags": []
   },
   "outputs": [
    {
     "name": "stdout",
     "output_type": "stream",
     "text": [
      "fully_connected_1.weight : torch.Size([120, 784])\n",
      "fully_connected_1.bias : torch.Size([120])\n",
      "fully_connected_2.weight : torch.Size([84, 120])\n",
      "fully_connected_2.bias : torch.Size([84])\n",
      "fully_connected_3.weight : torch.Size([10, 84])\n",
      "fully_connected_3.bias : torch.Size([10])\n"
     ]
    }
   ],
   "source": [
    "for name, param in model.named_parameters():\n",
    "    print(f\"{name} : {param.shape}\")"
   ]
  },
  {
   "cell_type": "code",
   "execution_count": 11,
   "id": "d2a52eb4",
   "metadata": {
    "execution": {
     "iopub.execute_input": "2025-09-11T16:34:04.207602Z",
     "iopub.status.busy": "2025-09-11T16:34:04.207269Z",
     "iopub.status.idle": "2025-09-11T16:34:04.212975Z",
     "shell.execute_reply": "2025-09-11T16:34:04.211806Z"
    },
    "papermill": {
     "duration": 0.014327,
     "end_time": "2025-09-11T16:34:04.214675",
     "exception": false,
     "start_time": "2025-09-11T16:34:04.200348",
     "status": "completed"
    },
    "tags": []
   },
   "outputs": [
    {
     "name": "stdout",
     "output_type": "stream",
     "text": [
      "105214\n"
     ]
    }
   ],
   "source": [
    "# (120*784) + 120 + (84*120) + 84 + (10*84) + 10\n",
    "print(sum(p.numel() for p in model.parameters()))"
   ]
  },
  {
   "cell_type": "markdown",
   "id": "b72b8d92",
   "metadata": {
    "papermill": {
     "duration": 0.005574,
     "end_time": "2025-09-11T16:34:04.226194",
     "exception": false,
     "start_time": "2025-09-11T16:34:04.220620",
     "status": "completed"
    },
    "tags": []
   },
   "source": [
    "### Step 4: Define LossFunction & Optimizer\n",
    "\n",
    "#### Loss Function:\n",
    "- Measures difference between predicted logits and true values\n",
    "\n",
    "#### Optimizer:\n",
    "- Changes model's weight(W) to reduce loss *(using gradient descent)*"
   ]
  },
  {
   "cell_type": "code",
   "execution_count": 12,
   "id": "f2fa0a0f",
   "metadata": {
    "execution": {
     "iopub.execute_input": "2025-09-11T16:34:04.240032Z",
     "iopub.status.busy": "2025-09-11T16:34:04.239071Z",
     "iopub.status.idle": "2025-09-11T16:34:04.243964Z",
     "shell.execute_reply": "2025-09-11T16:34:04.243097Z"
    },
    "papermill": {
     "duration": 0.013286,
     "end_time": "2025-09-11T16:34:04.245544",
     "exception": false,
     "start_time": "2025-09-11T16:34:04.232258",
     "status": "completed"
    },
    "tags": []
   },
   "outputs": [],
   "source": [
    "lossFunction = nn.CrossEntropyLoss()\n",
    "optimizer = torch.optim.Adam(model.parameters(), lr = 0.001)"
   ]
  },
  {
   "cell_type": "markdown",
   "id": "6ddec6d6",
   "metadata": {
    "papermill": {
     "duration": 0.005705,
     "end_time": "2025-09-11T16:34:04.257084",
     "exception": false,
     "start_time": "2025-09-11T16:34:04.251379",
     "status": "completed"
    },
    "tags": []
   },
   "source": [
    "### Step 5: Train Model"
   ]
  },
  {
   "cell_type": "markdown",
   "id": "df89b8b5",
   "metadata": {
    "papermill": {
     "duration": 0.005572,
     "end_time": "2025-09-11T16:34:04.268839",
     "exception": false,
     "start_time": "2025-09-11T16:34:04.263267",
     "status": "completed"
    },
    "tags": []
   },
   "source": [
    "| Without `torch.no_grad()` | With `torch.no_grad()`    |\n",
    "| ------------------------- | ------------------------- |\n",
    "| Gradients tracked         | No gradients tracked      |\n",
    "| More memory use           | Less memory use           |\n",
    "| Slower                    | Faster                    |\n",
    "| Used in training          | Used in testing/inference |"
   ]
  },
  {
   "cell_type": "code",
   "execution_count": 13,
   "id": "6d6bc457",
   "metadata": {
    "execution": {
     "iopub.execute_input": "2025-09-11T16:34:04.281456Z",
     "iopub.status.busy": "2025-09-11T16:34:04.281150Z",
     "iopub.status.idle": "2025-09-11T16:35:24.752090Z",
     "shell.execute_reply": "2025-09-11T16:35:24.750665Z"
    },
    "papermill": {
     "duration": 80.479128,
     "end_time": "2025-09-11T16:35:24.753698",
     "exception": false,
     "start_time": "2025-09-11T16:34:04.274570",
     "status": "completed"
    },
    "tags": []
   },
   "outputs": [
    {
     "name": "stdout",
     "output_type": "stream",
     "text": [
      "epoch:  0\n",
      "train\n",
      "accuracy:  89.57333333333334 \n",
      "loss:  0.13651518523693085\n",
      "test\n",
      "accuracy:  94.36 \n",
      "loss:  0.1471690833568573 \n",
      "\n",
      "\n",
      "epoch:  1\n",
      "train\n",
      "accuracy:  95.385 \n",
      "loss:  0.07247371971607208\n",
      "test\n",
      "accuracy:  96.13 \n",
      "loss:  0.12573491036891937 \n",
      "\n",
      "\n",
      "epoch:  2\n",
      "train\n",
      "accuracy:  96.73666666666666 \n",
      "loss:  0.1213008239865303\n",
      "test\n",
      "accuracy:  96.56 \n",
      "loss:  0.11164728552103043 \n",
      "\n",
      "\n",
      "epoch:  3\n",
      "train\n",
      "accuracy:  97.445 \n",
      "loss:  0.0714283287525177\n",
      "test\n",
      "accuracy:  97.36 \n",
      "loss:  0.04665723443031311 \n",
      "\n",
      "\n",
      "epoch:  4\n",
      "train\n",
      "accuracy:  98.09166666666667 \n",
      "loss:  0.11627047508955002\n",
      "test\n",
      "accuracy:  97.26 \n",
      "loss:  0.1052810549736023 \n",
      "\n",
      "\n",
      "epoch:  5\n",
      "train\n",
      "accuracy:  98.48 \n",
      "loss:  0.03452489897608757\n",
      "test\n",
      "accuracy:  97.27 \n",
      "loss:  0.0901423990726471 \n",
      "\n",
      "\n",
      "epoch:  6\n",
      "train\n",
      "accuracy:  98.62333333333333 \n",
      "loss:  0.0703059732913971\n",
      "test\n",
      "accuracy:  97.43 \n",
      "loss:  0.07405849546194077 \n",
      "\n",
      "\n",
      "epoch:  7\n",
      "train\n",
      "accuracy:  98.98 \n",
      "loss:  0.09827862679958344\n",
      "test\n",
      "accuracy:  97.79 \n",
      "loss:  0.11145572364330292 \n",
      "\n",
      "\n",
      "elapsed time:  80.46145129203796 sec\n"
     ]
    }
   ],
   "source": [
    "import time\n",
    "start_time = time.time()\n",
    "\n",
    "epochs = 8\n",
    "\n",
    "train_loss = []\n",
    "train_correct = []\n",
    "\n",
    "validation_loss = []\n",
    "validation_correct = []\n",
    "\n",
    "for i in range(epochs):\n",
    "    \n",
    "    print(\"epoch: \", i)\n",
    "    \n",
    "    trn_correct = 0\n",
    "    \n",
    "    # TRAIN\n",
    "    \n",
    "    for iteration, (train_image, train_label) in enumerate(train_loader):\n",
    "        \n",
    "        iteration += 1\n",
    "        \n",
    "        # apply model\n",
    "        predicted_label = model(train_image.view(100, -1)) # 100 x [0.1, 3.5, , ,..(10)]\n",
    "        loss = lossFunction(predicted_label, train_label)\n",
    "        \n",
    "        # update params\n",
    "        optimizer.zero_grad()\n",
    "        loss.backward()\n",
    "        optimizer.step()\n",
    "        \n",
    "        # tally\n",
    "        predicted = predicted_label.argmax(dim=1)  # (x100) cleaner and preferred\n",
    "        trn_correct += (predicted == train_label).sum() # counts how many true\n",
    "\n",
    "    train_correct.append(trn_correct.item())\n",
    "    train_loss.append(loss.item())\n",
    "    print(\"train\\naccuracy: \", trn_correct.item()*100/60_000, \"\\nloss: \", loss.item())\n",
    "        \n",
    "    # TEST\n",
    "    \n",
    "    val_correct = 0\n",
    "    \n",
    "    with torch.no_grad():\n",
    "        for iteration, (test_image, test_label) in enumerate(test_loader):\n",
    "\n",
    "            # apply the model\n",
    "            label_value = model(test_image.view(500, -1)) # 500 1-D Tensors[10] of logits probabilities\n",
    "            \n",
    "            # tally\n",
    "            predicted = label_value.argmax(dim=1)  # (x100) cleaner and preferred\n",
    "            val_correct += (predicted == test_label).sum() # counts how many true\n",
    "    \n",
    "    loss = lossFunction(label_value, test_label)\n",
    "    validation_loss.append(loss.item())\n",
    "    validation_correct.append(val_correct.item())\n",
    "    print(\"test\\naccuracy: \", val_correct.item()*100/10_000, \"\\nloss: \", loss.item(), \"\\n\\n\")\n",
    "            \n",
    "        \n",
    "end_time = time.time()\n",
    "print(\"elapsed time: \", end_time - start_time, \"sec\")"
   ]
  },
  {
   "cell_type": "markdown",
   "id": "ba1d6e9f",
   "metadata": {
    "papermill": {
     "duration": 0.007013,
     "end_time": "2025-09-11T16:35:24.767480",
     "exception": false,
     "start_time": "2025-09-11T16:35:24.760467",
     "status": "completed"
    },
    "tags": []
   },
   "source": [
    "### Step 6: Evaluate Test Data\n",
    "- まかしとくわ"
   ]
  },
  {
   "cell_type": "code",
   "execution_count": 14,
   "id": "a4fff7e9",
   "metadata": {
    "execution": {
     "iopub.execute_input": "2025-09-11T16:35:24.782622Z",
     "iopub.status.busy": "2025-09-11T16:35:24.782292Z",
     "iopub.status.idle": "2025-09-11T16:35:25.029919Z",
     "shell.execute_reply": "2025-09-11T16:35:25.028813Z"
    },
    "papermill": {
     "duration": 0.25716,
     "end_time": "2025-09-11T16:35:25.031598",
     "exception": false,
     "start_time": "2025-09-11T16:35:24.774438",
     "status": "completed"
    },
    "tags": []
   },
   "outputs": [
    {
     "data": {
      "text/plain": [
       "<function matplotlib.pyplot.show(close=None, block=None)>"
      ]
     },
     "execution_count": 14,
     "metadata": {},
     "output_type": "execute_result"
    },
    {
     "data": {
      "image/png": "[encoded data removed]",
      "text/plain": [
       "<Figure size 640x480 with 1 Axes>"
      ]
     },
     "metadata": {},
     "output_type": "display_data"
    }
   ],
   "source": [
    "plt.figure(\"loss-analysis\")\n",
    "plt.plot(train_loss, label = \"train-loss\")\n",
    "plt.plot(validation_loss, label = \"validation-loss\")\n",
    "plt.legend()\n",
    "plt.title(\"loss-analysis\")\n",
    "plt.show"
   ]
  },
  {
   "cell_type": "code",
   "execution_count": 15,
   "id": "df4b1437",
   "metadata": {
    "execution": {
     "iopub.execute_input": "2025-09-11T16:35:25.048168Z",
     "iopub.status.busy": "2025-09-11T16:35:25.047827Z",
     "iopub.status.idle": "2025-09-11T16:35:25.286749Z",
     "shell.execute_reply": "2025-09-11T16:35:25.285755Z"
    },
    "papermill": {
     "duration": 0.249016,
     "end_time": "2025-09-11T16:35:25.288455",
     "exception": false,
     "start_time": "2025-09-11T16:35:25.039439",
     "status": "completed"
    },
    "tags": []
   },
   "outputs": [
    {
     "data": {
      "text/plain": [
       "<function matplotlib.pyplot.show(close=None, block=None)>"
      ]
     },
     "execution_count": 15,
     "metadata": {},
     "output_type": "execute_result"
    },
    {
     "data": {
      "image/png": "[encoded data removed]",
      "text/plain": [
       "<Figure size 640x480 with 1 Axes>"
      ]
     },
     "metadata": {},
     "output_type": "display_data"
    }
   ],
   "source": [
    "plt.figure(\"accuracy-analysis\")\n",
    "plt.plot([t*100/60000 for t in train_correct], label = \"train-accuracy\")\n",
    "plt.plot([t*100/10000 for t in validation_correct], label = \"validation-accuracy\")\n",
    "plt.legend()\n",
    "plt.title(\"accuracy-analysis\")\n",
    "plt.show"
   ]
  },
  {
   "cell_type": "code",
   "execution_count": 16,
   "id": "715bdf96",
   "metadata": {
    "execution": {
     "iopub.execute_input": "2025-09-11T16:35:25.305997Z",
     "iopub.status.busy": "2025-09-11T16:35:25.305699Z",
     "iopub.status.idle": "2025-09-11T16:35:25.316614Z",
     "shell.execute_reply": "2025-09-11T16:35:25.315385Z"
    },
    "papermill": {
     "duration": 0.021494,
     "end_time": "2025-09-11T16:35:25.318285",
     "exception": false,
     "start_time": "2025-09-11T16:35:25.296791",
     "status": "completed"
    },
    "tags": []
   },
   "outputs": [
    {
     "name": "stdout",
     "output_type": "stream",
     "text": [
      "[[   0    1    2    3    4    5    6    7    8    9]]\n",
      "\n",
      "[[  43    0    0    0    0    0    1    1    1    0]\n",
      " [   0   51    0    0    0    0    0    0    0    0]\n",
      " [   0    0   42    0    0    0    0    0    0    0]\n",
      " [   0    0    0   43    0    1    0    0    0    0]\n",
      " [   0    0    0    0   57    0    0    1    1    1]\n",
      " [   0    0    0    0    0   48    0    0    1    1]\n",
      " [   0    0    0    0    0    0   50    0    0    0]\n",
      " [   0    0    0    0    0    0    0   43    1    0]\n",
      " [   0    0    1    0    0    0    0    0   51    0]\n",
      " [   0    0    0    0    2    1    0    1    0   57]]\n"
     ]
    }
   ],
   "source": [
    "np.set_printoptions(formatter=dict(int=lambda x: f'{x:4}'))\n",
    "print(np.arange(10).reshape(1,10))\n",
    "print()\n",
    "\n",
    "# print the confusion matrix\n",
    "print(confusion_matrix(predicted.view(-1), test_label.view(-1)))"
   ]
  }
 ],
 "metadata": {
  "kaggle": {
   "accelerator": "none",
   "dataSources": [],
   "dockerImageVersionId": 31089,
   "isGpuEnabled": false,
   "isInternetEnabled": true,
   "language": "python",
   "sourceType": "notebook"
  },
  "kernelspec": {
   "display_name": "Python 3",
   "language": "python",
   "name": "python3"
  },
  "language_info": {
   "codemirror_mode": {
    "name": "ipython",
    "version": 3
   },
   "file_extension": ".py",
   "mimetype": "text/x-python",
   "name": "python",
   "nbconvert_exporter": "python",
   "pygments_lexer": "ipython3",
   "version": "3.11.13"
  },
  "papermill": {
   "default_parameters": {},
   "duration": 111.829784,
   "end_time": "2025-09-11T16:35:27.976152",
   "environment_variables": {},
   "exception": null,
   "input_path": "__notebook__.ipynb",
   "output_path": "__notebook__.ipynb",
   "parameters": {},
   "start_time": "2025-09-11T16:33:36.146368",
   "version": "2.6.0"
  }
 },
 "nbformat": 4,
 "nbformat_minor": 5
}
